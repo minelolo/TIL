{
  "nbformat": 4,
  "nbformat_minor": 0,
  "metadata": {
    "colab": {
      "name": "tensorflow 맛보기.ipynb",
      "provenance": [],
      "authorship_tag": "ABX9TyP2qTsNQbuLyPEJadjY5hA4",
      "include_colab_link": true
    },
    "kernelspec": {
      "name": "python3",
      "display_name": "Python 3"
    },
    "language_info": {
      "name": "python"
    },
    "accelerator": "GPU"
  },
  "cells": [
    {
      "cell_type": "markdown",
      "metadata": {
        "id": "view-in-github",
        "colab_type": "text"
      },
      "source": [
        "<a href=\"https://colab.research.google.com/github/minelolo/TIL/blob/master/tensorflow_%EB%A7%9B%EB%B3%B4%EA%B8%B0.ipynb\" target=\"_parent\"><img src=\"https://colab.research.google.com/assets/colab-badge.svg\" alt=\"Open In Colab\"/></a>"
      ]
    },
    {
      "cell_type": "code",
      "execution_count": 1,
      "metadata": {
        "id": "0yxDhwJQelFe"
      },
      "outputs": [],
      "source": [
        "import tensorflow as tf"
      ]
    },
    {
      "cell_type": "code",
      "source": [
        "tf.__version__"
      ],
      "metadata": {
        "colab": {
          "base_uri": "https://localhost:8080/",
          "height": 35
        },
        "id": "fg7pKhsvgo8r",
        "outputId": "50f7d53b-0ecf-4626-f022-12be01b1b906"
      },
      "execution_count": 2,
      "outputs": [
        {
          "output_type": "execute_result",
          "data": {
            "text/plain": [
              "'2.8.0'"
            ],
            "application/vnd.google.colaboratory.intrinsic+json": {
              "type": "string"
            }
          },
          "metadata": {},
          "execution_count": 2
        }
      ]
    },
    {
      "cell_type": "code",
      "source": [
        "tf.config.list_physical_devices('GPU')"
      ],
      "metadata": {
        "colab": {
          "base_uri": "https://localhost:8080/"
        },
        "id": "nUvmvgLog8o5",
        "outputId": "dbd2778c-d103-4739-dfbf-2727b7dd3bbb"
      },
      "execution_count": 3,
      "outputs": [
        {
          "output_type": "execute_result",
          "data": {
            "text/plain": [
              "[PhysicalDevice(name='/physical_device:GPU:0', device_type='GPU')]"
            ]
          },
          "metadata": {},
          "execution_count": 3
        }
      ]
    },
    {
      "cell_type": "code",
      "source": [
        "tf.test.is_gpu_available()"
      ],
      "metadata": {
        "colab": {
          "base_uri": "https://localhost:8080/"
        },
        "id": "UY8LlwW1hrX-",
        "outputId": "d7b7a37f-fb4f-4815-9c29-0a2e4b07f0e3"
      },
      "execution_count": 4,
      "outputs": [
        {
          "output_type": "stream",
          "name": "stdout",
          "text": [
            "WARNING:tensorflow:From <ipython-input-4-17bb7203622b>:1: is_gpu_available (from tensorflow.python.framework.test_util) is deprecated and will be removed in a future version.\n",
            "Instructions for updating:\n",
            "Use `tf.config.list_physical_devices('GPU')` instead.\n"
          ]
        },
        {
          "output_type": "execute_result",
          "data": {
            "text/plain": [
              "True"
            ]
          },
          "metadata": {},
          "execution_count": 4
        }
      ]
    },
    {
      "cell_type": "code",
      "source": [
        "import numpy as np\n",
        "import matplotlib.pyplot as plt\n",
        "np.random.seed(0)"
      ],
      "metadata": {
        "id": "dIemsZgAh8-g"
      },
      "execution_count": 5,
      "outputs": []
    },
    {
      "cell_type": "code",
      "source": [
        "def make_random_data():\n",
        "    x = np.random.uniform(low=-2, high=2, size=200)\n",
        "    y = []\n",
        "    for t in x:\n",
        "        r = np.random.normal(loc=0.0, scale=(0.5 + t*t/3), size=None)\n",
        "        y.append(r)\n",
        "    return  x, 1.726*x -0.84 + np.array(y)"
      ],
      "metadata": {
        "id": "ETWbOHG5ippq"
      },
      "execution_count": 6,
      "outputs": []
    },
    {
      "cell_type": "code",
      "source": [
        "x, y = make_random_data()"
      ],
      "metadata": {
        "id": "qvqRMknBiuXY"
      },
      "execution_count": 7,
      "outputs": []
    },
    {
      "cell_type": "code",
      "source": [
        "plt.plot(x, y, \"o\")"
      ],
      "metadata": {
        "colab": {
          "base_uri": "https://localhost:8080/",
          "height": 282
        },
        "id": "FE-t00EGiyPo",
        "outputId": "878478eb-b1ad-43ad-ad38-c166c8c20fdd"
      },
      "execution_count": 8,
      "outputs": [
        {
          "output_type": "execute_result",
          "data": {
            "text/plain": [
              "[<matplotlib.lines.Line2D at 0x7f25c00bb550>]"
            ]
          },
          "metadata": {},
          "execution_count": 8
        },
        {
          "output_type": "display_data",
          "data": {
            "text/plain": [
              "<Figure size 432x288 with 1 Axes>"
            ],
            "image/png": "[encoded data removed]"
          },
          "metadata": {
            "needs_background": "light"
          }
        }
      ]
    },
    {
      "cell_type": "code",
      "source": [
        "model = tf.keras.Sequential() # model 객체 생성"
      ],
      "metadata": {
        "id": "_4ayITxLi1Nz"
      },
      "execution_count": 10,
      "outputs": []
    },
    {
      "cell_type": "code",
      "source": [
        "model.add(tf.keras.layers.Dense(units = 1, input_dim = 1))"
      ],
      "metadata": {
        "id": "5wj-zvB7jGHF"
      },
      "execution_count": 11,
      "outputs": []
    },
    {
      "cell_type": "code",
      "source": [
        "model.summary()"
      ],
      "metadata": {
        "colab": {
          "base_uri": "https://localhost:8080/"
        },
        "id": "pRduwv1fjVLd",
        "outputId": "391303df-3a12-47f5-a495-78cf13417850"
      },
      "execution_count": 12,
      "outputs": [
        {
          "output_type": "stream",
          "name": "stdout",
          "text": [
            "Model: \"sequential_1\"\n",
            "_________________________________________________________________\n",
            " Layer (type)                Output Shape              Param #   \n",
            "=================================================================\n",
            " dense (Dense)               (None, 1)                 2         \n",
            "                                                                 \n",
            "=================================================================\n",
            "Total params: 2\n",
            "Trainable params: 2\n",
            "Non-trainable params: 0\n",
            "_________________________________________________________________\n"
          ]
        }
      ]
    },
    {
      "cell_type": "code",
      "source": [
        "model.compile(optimizer = \"sgd\", loss = \"mse\")"
      ],
      "metadata": {
        "id": "ipPZo-uIjXvi"
      },
      "execution_count": 13,
      "outputs": []
    },
    {
      "cell_type": "code",
      "source": [
        "history = model.fit(x, y, epochs = 300)"
      ],
      "metadata": {
        "colab": {
          "base_uri": "https://localhost:8080/"
        },
        "id": "VC2i1YrojpLE",
        "outputId": "7da52654-6794-4a53-e4bb-e51c50e101c8"
      },
      "execution_count": 17,
      "outputs": [
        {
          "output_type": "stream",
          "name": "stdout",
          "text": [
            "Epoch 1/300\n",
            "7/7 [==============================] - 0s 3ms/step - loss: 0.8385\n",
            "Epoch 2/300\n",
            "7/7 [==============================] - 0s 3ms/step - loss: 0.8377\n",
            "Epoch 3/300\n",
            "7/7 [==============================] - 0s 3ms/step - loss: 0.8368\n",
            "Epoch 4/300\n",
            "7/7 [==============================] - 0s 3ms/step - loss: 0.8381\n",
            "Epoch 5/300\n",
            "7/7 [==============================] - 0s 3ms/step - loss: 0.8368\n",
            "Epoch 6/300\n",
            "7/7 [==============================] - 0s 3ms/step - loss: 0.8376\n",
            "Epoch 7/300\n",
            "7/7 [==============================] - 0s 3ms/step - loss: 0.8368\n",
            "Epoch 8/300\n",
            "7/7 [==============================] - 0s 3ms/step - loss: 0.8367\n",
            "Epoch 9/300\n",
            "7/7 [==============================] - 0s 3ms/step - loss: 0.8364\n",
            "Epoch 10/300\n",
            "7/7 [==============================] - 0s 3ms/step - loss: 0.8374\n",
            "Epoch 11/300\n",
            "7/7 [==============================] - 0s 3ms/step - loss: 0.8372\n",
            "Epoch 12/300\n",
            "7/7 [==============================] - 0s 4ms/step - loss: 0.8381\n",
            "Epoch 13/300\n",
            "7/7 [==============================] - 0s 3ms/step - loss: 0.8362\n",
            "Epoch 14/300\n",
            "7/7 [==============================] - 0s 3ms/step - loss: 0.8366\n",
            "Epoch 15/300\n",
            "7/7 [==============================] - 0s 3ms/step - loss: 0.8371\n",
            "Epoch 16/300\n",
            "7/7 [==============================] - 0s 3ms/step - loss: 0.8363\n",
            "Epoch 17/300\n",
            "7/7 [==============================] - 0s 3ms/step - loss: 0.8367\n",
            "Epoch 18/300\n",
            "7/7 [==============================] - 0s 3ms/step - loss: 0.8362\n",
            "Epoch 19/300\n",
            "7/7 [==============================] - 0s 3ms/step - loss: 0.8367\n",
            "Epoch 20/300\n",
            "7/7 [==============================] - 0s 3ms/step - loss: 0.8371\n",
            "Epoch 21/300\n",
            "7/7 [==============================] - 0s 3ms/step - loss: 0.8369\n",
            "Epoch 22/300\n",
            "7/7 [==============================] - 0s 3ms/step - loss: 0.8365\n",
            "Epoch 23/300\n",
            "7/7 [==============================] - 0s 3ms/step - loss: 0.8385\n",
            "Epoch 24/300\n",
            "7/7 [==============================] - 0s 3ms/step - loss: 0.8374\n",
            "Epoch 25/300\n",
            "7/7 [==============================] - 0s 3ms/step - loss: 0.8378\n",
            "Epoch 26/300\n",
            "7/7 [==============================] - 0s 3ms/step - loss: 0.8361\n",
            "Epoch 27/300\n",
            "7/7 [==============================] - 0s 3ms/step - loss: 0.8364\n",
            "Epoch 28/300\n",
            "7/7 [==============================] - 0s 3ms/step - loss: 0.8366\n",
            "Epoch 29/300\n",
            "7/7 [==============================] - 0s 4ms/step - loss: 0.8371\n",
            "Epoch 30/300\n",
            "7/7 [==============================] - 0s 3ms/step - loss: 0.8364\n",
            "Epoch 31/300\n",
            "7/7 [==============================] - 0s 3ms/step - loss: 0.8371\n",
            "Epoch 32/300\n",
            "7/7 [==============================] - 0s 3ms/step - loss: 0.8371\n",
            "Epoch 33/300\n",
            "7/7 [==============================] - 0s 4ms/step - loss: 0.8379\n",
            "Epoch 34/300\n",
            "7/7 [==============================] - 0s 3ms/step - loss: 0.8379\n",
            "Epoch 35/300\n",
            "7/7 [==============================] - 0s 3ms/step - loss: 0.8372\n",
            "Epoch 36/300\n",
            "7/7 [==============================] - 0s 3ms/step - loss: 0.8365\n",
            "Epoch 37/300\n",
            "7/7 [==============================] - 0s 3ms/step - loss: 0.8366\n",
            "Epoch 38/300\n",
            "7/7 [==============================] - 0s 3ms/step - loss: 0.8372\n",
            "Epoch 39/300\n",
            "7/7 [==============================] - 0s 3ms/step - loss: 0.8374\n",
            "Epoch 40/300\n",
            "7/7 [==============================] - 0s 3ms/step - loss: 0.8373\n",
            "Epoch 41/300\n",
            "7/7 [==============================] - 0s 3ms/step - loss: 0.8363\n",
            "Epoch 42/300\n",
            "7/7 [==============================] - 0s 3ms/step - loss: 0.8368\n",
            "Epoch 43/300\n",
            "7/7 [==============================] - 0s 3ms/step - loss: 0.8363\n",
            "Epoch 44/300\n",
            "7/7 [==============================] - 0s 3ms/step - loss: 0.8372\n",
            "Epoch 45/300\n",
            "7/7 [==============================] - 0s 5ms/step - loss: 0.8370\n",
            "Epoch 46/300\n",
            "7/7 [==============================] - 0s 3ms/step - loss: 0.8371\n",
            "Epoch 47/300\n",
            "7/7 [==============================] - 0s 3ms/step - loss: 0.8362\n",
            "Epoch 48/300\n",
            "7/7 [==============================] - 0s 3ms/step - loss: 0.8372\n",
            "Epoch 49/300\n",
            "7/7 [==============================] - 0s 3ms/step - loss: 0.8361\n",
            "Epoch 50/300\n",
            "7/7 [==============================] - 0s 3ms/step - loss: 0.8372\n",
            "Epoch 51/300\n",
            "7/7 [==============================] - 0s 3ms/step - loss: 0.8389\n",
            "Epoch 52/300\n",
            "7/7 [==============================] - 0s 3ms/step - loss: 0.8373\n",
            "Epoch 53/300\n",
            "7/7 [==============================] - 0s 3ms/step - loss: 0.8381\n",
            "Epoch 54/300\n",
            "7/7 [==============================] - 0s 3ms/step - loss: 0.8368\n",
            "Epoch 55/300\n",
            "7/7 [==============================] - 0s 3ms/step - loss: 0.8374\n",
            "Epoch 56/300\n",
            "7/7 [==============================] - 0s 3ms/step - loss: 0.8367\n",
            "Epoch 57/300\n",
            "7/7 [==============================] - 0s 4ms/step - loss: 0.8380\n",
            "Epoch 58/300\n",
            "7/7 [==============================] - 0s 3ms/step - loss: 0.8373\n",
            "Epoch 59/300\n",
            "7/7 [==============================] - 0s 3ms/step - loss: 0.8365\n",
            "Epoch 60/300\n",
            "7/7 [==============================] - 0s 3ms/step - loss: 0.8379\n",
            "Epoch 61/300\n",
            "7/7 [==============================] - 0s 3ms/step - loss: 0.8372\n",
            "Epoch 62/300\n",
            "7/7 [==============================] - 0s 3ms/step - loss: 0.8385\n",
            "Epoch 63/300\n",
            "7/7 [==============================] - 0s 4ms/step - loss: 0.8380\n",
            "Epoch 64/300\n",
            "7/7 [==============================] - 0s 3ms/step - loss: 0.8382\n",
            "Epoch 65/300\n",
            "7/7 [==============================] - 0s 3ms/step - loss: 0.8371\n",
            "Epoch 66/300\n",
            "7/7 [==============================] - 0s 3ms/step - loss: 0.8381\n",
            "Epoch 67/300\n",
            "7/7 [==============================] - 0s 3ms/step - loss: 0.8364\n",
            "Epoch 68/300\n",
            "7/7 [==============================] - 0s 3ms/step - loss: 0.8367\n",
            "Epoch 69/300\n",
            "7/7 [==============================] - 0s 3ms/step - loss: 0.8372\n",
            "Epoch 70/300\n",
            "7/7 [==============================] - 0s 3ms/step - loss: 0.8387\n",
            "Epoch 71/300\n",
            "7/7 [==============================] - 0s 3ms/step - loss: 0.8373\n",
            "Epoch 72/300\n",
            "7/7 [==============================] - 0s 3ms/step - loss: 0.8374\n",
            "Epoch 73/300\n",
            "7/7 [==============================] - 0s 3ms/step - loss: 0.8374\n",
            "Epoch 74/300\n",
            "7/7 [==============================] - 0s 3ms/step - loss: 0.8363\n",
            "Epoch 75/300\n",
            "7/7 [==============================] - 0s 3ms/step - loss: 0.8384\n",
            "Epoch 76/300\n",
            "7/7 [==============================] - 0s 3ms/step - loss: 0.8384\n",
            "Epoch 77/300\n",
            "7/7 [==============================] - 0s 5ms/step - loss: 0.8387\n",
            "Epoch 78/300\n",
            "7/7 [==============================] - 0s 3ms/step - loss: 0.8398\n",
            "Epoch 79/300\n",
            "7/7 [==============================] - 0s 3ms/step - loss: 0.8385\n",
            "Epoch 80/300\n",
            "7/7 [==============================] - 0s 3ms/step - loss: 0.8405\n",
            "Epoch 81/300\n",
            "7/7 [==============================] - 0s 3ms/step - loss: 0.8389\n",
            "Epoch 82/300\n",
            "7/7 [==============================] - 0s 3ms/step - loss: 0.8387\n",
            "Epoch 83/300\n",
            "7/7 [==============================] - 0s 3ms/step - loss: 0.8388\n",
            "Epoch 84/300\n",
            "7/7 [==============================] - 0s 3ms/step - loss: 0.8391\n",
            "Epoch 85/300\n",
            "7/7 [==============================] - 0s 3ms/step - loss: 0.8371\n",
            "Epoch 86/300\n",
            "7/7 [==============================] - 0s 4ms/step - loss: 0.8380\n",
            "Epoch 87/300\n",
            "7/7 [==============================] - 0s 3ms/step - loss: 0.8382\n",
            "Epoch 88/300\n",
            "7/7 [==============================] - 0s 3ms/step - loss: 0.8379\n",
            "Epoch 89/300\n",
            "7/7 [==============================] - 0s 3ms/step - loss: 0.8373\n",
            "Epoch 90/300\n",
            "7/7 [==============================] - 0s 3ms/step - loss: 0.8379\n",
            "Epoch 91/300\n",
            "7/7 [==============================] - 0s 3ms/step - loss: 0.8372\n",
            "Epoch 92/300\n",
            "7/7 [==============================] - 0s 4ms/step - loss: 0.8377\n",
            "Epoch 93/300\n",
            "7/7 [==============================] - 0s 3ms/step - loss: 0.8375\n",
            "Epoch 94/300\n",
            "7/7 [==============================] - 0s 3ms/step - loss: 0.8373\n",
            "Epoch 95/300\n",
            "7/7 [==============================] - 0s 3ms/step - loss: 0.8374\n",
            "Epoch 96/300\n",
            "7/7 [==============================] - 0s 4ms/step - loss: 0.8375\n",
            "Epoch 97/300\n",
            "7/7 [==============================] - 0s 3ms/step - loss: 0.8393\n",
            "Epoch 98/300\n",
            "7/7 [==============================] - 0s 3ms/step - loss: 0.8384\n",
            "Epoch 99/300\n",
            "7/7 [==============================] - 0s 3ms/step - loss: 0.8373\n",
            "Epoch 100/300\n",
            "7/7 [==============================] - 0s 3ms/step - loss: 0.8383\n",
            "Epoch 101/300\n",
            "7/7 [==============================] - 0s 3ms/step - loss: 0.8375\n",
            "Epoch 102/300\n",
            "7/7 [==============================] - 0s 3ms/step - loss: 0.8370\n",
            "Epoch 103/300\n",
            "7/7 [==============================] - 0s 3ms/step - loss: 0.8366\n",
            "Epoch 104/300\n",
            "7/7 [==============================] - 0s 3ms/step - loss: 0.8376\n",
            "Epoch 105/300\n",
            "7/7 [==============================] - 0s 3ms/step - loss: 0.8376\n",
            "Epoch 106/300\n",
            "7/7 [==============================] - 0s 3ms/step - loss: 0.8370\n",
            "Epoch 107/300\n",
            "7/7 [==============================] - 0s 3ms/step - loss: 0.8375\n",
            "Epoch 108/300\n",
            "7/7 [==============================] - 0s 3ms/step - loss: 0.8385\n",
            "Epoch 109/300\n",
            "7/7 [==============================] - 0s 3ms/step - loss: 0.8384\n",
            "Epoch 110/300\n",
            "7/7 [==============================] - 0s 4ms/step - loss: 0.8371\n",
            "Epoch 111/300\n",
            "7/7 [==============================] - 0s 3ms/step - loss: 0.8372\n",
            "Epoch 112/300\n",
            "7/7 [==============================] - 0s 3ms/step - loss: 0.8368\n",
            "Epoch 113/300\n",
            "7/7 [==============================] - 0s 3ms/step - loss: 0.8363\n",
            "Epoch 114/300\n",
            "7/7 [==============================] - 0s 4ms/step - loss: 0.8367\n",
            "Epoch 115/300\n",
            "7/7 [==============================] - 0s 3ms/step - loss: 0.8369\n",
            "Epoch 116/300\n",
            "7/7 [==============================] - 0s 3ms/step - loss: 0.8366\n",
            "Epoch 117/300\n",
            "7/7 [==============================] - 0s 3ms/step - loss: 0.8364\n",
            "Epoch 118/300\n",
            "7/7 [==============================] - 0s 3ms/step - loss: 0.8366\n",
            "Epoch 119/300\n",
            "7/7 [==============================] - 0s 3ms/step - loss: 0.8371\n",
            "Epoch 120/300\n",
            "7/7 [==============================] - 0s 3ms/step - loss: 0.8364\n",
            "Epoch 121/300\n",
            "7/7 [==============================] - 0s 3ms/step - loss: 0.8367\n",
            "Epoch 122/300\n",
            "7/7 [==============================] - 0s 3ms/step - loss: 0.8373\n",
            "Epoch 123/300\n",
            "7/7 [==============================] - 0s 3ms/step - loss: 0.8373\n",
            "Epoch 124/300\n",
            "7/7 [==============================] - 0s 3ms/step - loss: 0.8376\n",
            "Epoch 125/300\n",
            "7/7 [==============================] - 0s 3ms/step - loss: 0.8363\n",
            "Epoch 126/300\n",
            "7/7 [==============================] - 0s 4ms/step - loss: 0.8369\n",
            "Epoch 127/300\n",
            "7/7 [==============================] - 0s 3ms/step - loss: 0.8373\n",
            "Epoch 128/300\n",
            "7/7 [==============================] - 0s 3ms/step - loss: 0.8389\n",
            "Epoch 129/300\n",
            "7/7 [==============================] - 0s 3ms/step - loss: 0.8377\n",
            "Epoch 130/300\n",
            "7/7 [==============================] - 0s 3ms/step - loss: 0.8362\n",
            "Epoch 131/300\n",
            "7/7 [==============================] - 0s 3ms/step - loss: 0.8369\n",
            "Epoch 132/300\n",
            "7/7 [==============================] - 0s 3ms/step - loss: 0.8369\n",
            "Epoch 133/300\n",
            "7/7 [==============================] - 0s 4ms/step - loss: 0.8363\n",
            "Epoch 134/300\n",
            "7/7 [==============================] - 0s 4ms/step - loss: 0.8367\n",
            "Epoch 135/300\n",
            "7/7 [==============================] - 0s 3ms/step - loss: 0.8379\n",
            "Epoch 136/300\n",
            "7/7 [==============================] - 0s 3ms/step - loss: 0.8377\n",
            "Epoch 137/300\n",
            "7/7 [==============================] - 0s 3ms/step - loss: 0.8365\n",
            "Epoch 138/300\n",
            "7/7 [==============================] - 0s 3ms/step - loss: 0.8368\n",
            "Epoch 139/300\n",
            "7/7 [==============================] - 0s 3ms/step - loss: 0.8365\n",
            "Epoch 140/300\n",
            "7/7 [==============================] - 0s 3ms/step - loss: 0.8370\n",
            "Epoch 141/300\n",
            "7/7 [==============================] - 0s 4ms/step - loss: 0.8365\n",
            "Epoch 142/300\n",
            "7/7 [==============================] - 0s 4ms/step - loss: 0.8360\n",
            "Epoch 143/300\n",
            "7/7 [==============================] - 0s 3ms/step - loss: 0.8371\n",
            "Epoch 144/300\n",
            "7/7 [==============================] - 0s 3ms/step - loss: 0.8367\n",
            "Epoch 145/300\n",
            "7/7 [==============================] - 0s 3ms/step - loss: 0.8396\n",
            "Epoch 146/300\n",
            "7/7 [==============================] - 0s 3ms/step - loss: 0.8366\n",
            "Epoch 147/300\n",
            "7/7 [==============================] - 0s 3ms/step - loss: 0.8367\n",
            "Epoch 148/300\n",
            "7/7 [==============================] - 0s 3ms/step - loss: 0.8373\n",
            "Epoch 149/300\n",
            "7/7 [==============================] - 0s 3ms/step - loss: 0.8361\n",
            "Epoch 150/300\n",
            "7/7 [==============================] - 0s 3ms/step - loss: 0.8391\n",
            "Epoch 151/300\n",
            "7/7 [==============================] - 0s 3ms/step - loss: 0.8368\n",
            "Epoch 152/300\n",
            "7/7 [==============================] - 0s 6ms/step - loss: 0.8369\n",
            "Epoch 153/300\n",
            "7/7 [==============================] - 0s 3ms/step - loss: 0.8369\n",
            "Epoch 154/300\n",
            "7/7 [==============================] - 0s 4ms/step - loss: 0.8368\n",
            "Epoch 155/300\n",
            "7/7 [==============================] - 0s 3ms/step - loss: 0.8365\n",
            "Epoch 156/300\n",
            "7/7 [==============================] - 0s 3ms/step - loss: 0.8370\n",
            "Epoch 157/300\n",
            "7/7 [==============================] - 0s 3ms/step - loss: 0.8371\n",
            "Epoch 158/300\n",
            "7/7 [==============================] - 0s 3ms/step - loss: 0.8360\n",
            "Epoch 159/300\n",
            "7/7 [==============================] - 0s 3ms/step - loss: 0.8368\n",
            "Epoch 160/300\n",
            "7/7 [==============================] - 0s 3ms/step - loss: 0.8366\n",
            "Epoch 161/300\n",
            "7/7 [==============================] - 0s 3ms/step - loss: 0.8364\n",
            "Epoch 162/300\n",
            "7/7 [==============================] - 0s 3ms/step - loss: 0.8365\n",
            "Epoch 163/300\n",
            "7/7 [==============================] - 0s 3ms/step - loss: 0.8362\n",
            "Epoch 164/300\n",
            "7/7 [==============================] - 0s 3ms/step - loss: 0.8365\n",
            "Epoch 165/300\n",
            "7/7 [==============================] - 0s 3ms/step - loss: 0.8369\n",
            "Epoch 166/300\n",
            "7/7 [==============================] - 0s 3ms/step - loss: 0.8366\n",
            "Epoch 167/300\n",
            "7/7 [==============================] - 0s 3ms/step - loss: 0.8370\n",
            "Epoch 168/300\n",
            "7/7 [==============================] - 0s 3ms/step - loss: 0.8368\n",
            "Epoch 169/300\n",
            "7/7 [==============================] - 0s 3ms/step - loss: 0.8384\n",
            "Epoch 170/300\n",
            "7/7 [==============================] - 0s 3ms/step - loss: 0.8374\n",
            "Epoch 171/300\n",
            "7/7 [==============================] - 0s 3ms/step - loss: 0.8370\n",
            "Epoch 172/300\n",
            "7/7 [==============================] - 0s 4ms/step - loss: 0.8366\n",
            "Epoch 173/300\n",
            "7/7 [==============================] - 0s 4ms/step - loss: 0.8364\n",
            "Epoch 174/300\n",
            "7/7 [==============================] - 0s 3ms/step - loss: 0.8375\n",
            "Epoch 175/300\n",
            "7/7 [==============================] - 0s 3ms/step - loss: 0.8400\n",
            "Epoch 176/300\n",
            "7/7 [==============================] - 0s 3ms/step - loss: 0.8374\n",
            "Epoch 177/300\n",
            "7/7 [==============================] - 0s 3ms/step - loss: 0.8369\n",
            "Epoch 178/300\n",
            "7/7 [==============================] - 0s 3ms/step - loss: 0.8375\n",
            "Epoch 179/300\n",
            "7/7 [==============================] - 0s 4ms/step - loss: 0.8373\n",
            "Epoch 180/300\n",
            "7/7 [==============================] - 0s 4ms/step - loss: 0.8377\n",
            "Epoch 181/300\n",
            "7/7 [==============================] - 0s 3ms/step - loss: 0.8385\n",
            "Epoch 182/300\n",
            "7/7 [==============================] - 0s 3ms/step - loss: 0.8368\n",
            "Epoch 183/300\n",
            "7/7 [==============================] - 0s 3ms/step - loss: 0.8372\n",
            "Epoch 184/300\n",
            "7/7 [==============================] - 0s 3ms/step - loss: 0.8370\n",
            "Epoch 185/300\n",
            "7/7 [==============================] - 0s 3ms/step - loss: 0.8374\n",
            "Epoch 186/300\n",
            "7/7 [==============================] - 0s 4ms/step - loss: 0.8369\n",
            "Epoch 187/300\n",
            "7/7 [==============================] - 0s 3ms/step - loss: 0.8368\n",
            "Epoch 188/300\n",
            "7/7 [==============================] - 0s 4ms/step - loss: 0.8381\n",
            "Epoch 189/300\n",
            "7/7 [==============================] - 0s 3ms/step - loss: 0.8378\n",
            "Epoch 190/300\n",
            "7/7 [==============================] - 0s 3ms/step - loss: 0.8368\n",
            "Epoch 191/300\n",
            "7/7 [==============================] - 0s 3ms/step - loss: 0.8363\n",
            "Epoch 192/300\n",
            "7/7 [==============================] - 0s 3ms/step - loss: 0.8366\n",
            "Epoch 193/300\n",
            "7/7 [==============================] - 0s 3ms/step - loss: 0.8370\n",
            "Epoch 194/300\n",
            "7/7 [==============================] - 0s 3ms/step - loss: 0.8375\n",
            "Epoch 195/300\n",
            "7/7 [==============================] - 0s 3ms/step - loss: 0.8376\n",
            "Epoch 196/300\n",
            "7/7 [==============================] - 0s 3ms/step - loss: 0.8364\n",
            "Epoch 197/300\n",
            "7/7 [==============================] - 0s 3ms/step - loss: 0.8374\n",
            "Epoch 198/300\n",
            "7/7 [==============================] - 0s 4ms/step - loss: 0.8368\n",
            "Epoch 199/300\n",
            "7/7 [==============================] - 0s 3ms/step - loss: 0.8370\n",
            "Epoch 200/300\n",
            "7/7 [==============================] - 0s 3ms/step - loss: 0.8384\n",
            "Epoch 201/300\n",
            "7/7 [==============================] - 0s 4ms/step - loss: 0.8375\n",
            "Epoch 202/300\n",
            "7/7 [==============================] - 0s 4ms/step - loss: 0.8370\n",
            "Epoch 203/300\n",
            "7/7 [==============================] - 0s 3ms/step - loss: 0.8366\n",
            "Epoch 204/300\n",
            "7/7 [==============================] - 0s 4ms/step - loss: 0.8381\n",
            "Epoch 205/300\n",
            "7/7 [==============================] - 0s 3ms/step - loss: 0.8376\n",
            "Epoch 206/300\n",
            "7/7 [==============================] - 0s 4ms/step - loss: 0.8373\n",
            "Epoch 207/300\n",
            "7/7 [==============================] - 0s 4ms/step - loss: 0.8376\n",
            "Epoch 208/300\n",
            "7/7 [==============================] - 0s 3ms/step - loss: 0.8373\n",
            "Epoch 209/300\n",
            "7/7 [==============================] - 0s 3ms/step - loss: 0.8376\n",
            "Epoch 210/300\n",
            "7/7 [==============================] - 0s 4ms/step - loss: 0.8373\n",
            "Epoch 211/300\n",
            "7/7 [==============================] - 0s 4ms/step - loss: 0.8365\n",
            "Epoch 212/300\n",
            "7/7 [==============================] - 0s 3ms/step - loss: 0.8365\n",
            "Epoch 213/300\n",
            "7/7 [==============================] - 0s 4ms/step - loss: 0.8371\n",
            "Epoch 214/300\n",
            "7/7 [==============================] - 0s 3ms/step - loss: 0.8371\n",
            "Epoch 215/300\n",
            "7/7 [==============================] - 0s 3ms/step - loss: 0.8377\n",
            "Epoch 216/300\n",
            "7/7 [==============================] - 0s 3ms/step - loss: 0.8363\n",
            "Epoch 217/300\n",
            "7/7 [==============================] - 0s 3ms/step - loss: 0.8368\n",
            "Epoch 218/300\n",
            "7/7 [==============================] - 0s 3ms/step - loss: 0.8369\n",
            "Epoch 219/300\n",
            "7/7 [==============================] - 0s 3ms/step - loss: 0.8379\n",
            "Epoch 220/300\n",
            "7/7 [==============================] - 0s 4ms/step - loss: 0.8382\n",
            "Epoch 221/300\n",
            "7/7 [==============================] - 0s 3ms/step - loss: 0.8389\n",
            "Epoch 222/300\n",
            "7/7 [==============================] - 0s 3ms/step - loss: 0.8372\n",
            "Epoch 223/300\n",
            "7/7 [==============================] - 0s 3ms/step - loss: 0.8385\n",
            "Epoch 224/300\n",
            "7/7 [==============================] - 0s 3ms/step - loss: 0.8364\n",
            "Epoch 225/300\n",
            "7/7 [==============================] - 0s 3ms/step - loss: 0.8375\n",
            "Epoch 226/300\n",
            "7/7 [==============================] - 0s 3ms/step - loss: 0.8384\n",
            "Epoch 227/300\n",
            "7/7 [==============================] - 0s 3ms/step - loss: 0.8377\n",
            "Epoch 228/300\n",
            "7/7 [==============================] - 0s 3ms/step - loss: 0.8372\n",
            "Epoch 229/300\n",
            "7/7 [==============================] - 0s 3ms/step - loss: 0.8368\n",
            "Epoch 230/300\n",
            "7/7 [==============================] - 0s 3ms/step - loss: 0.8368\n",
            "Epoch 231/300\n",
            "7/7 [==============================] - 0s 3ms/step - loss: 0.8369\n",
            "Epoch 232/300\n",
            "7/7 [==============================] - 0s 4ms/step - loss: 0.8370\n",
            "Epoch 233/300\n",
            "7/7 [==============================] - 0s 3ms/step - loss: 0.8367\n",
            "Epoch 234/300\n",
            "7/7 [==============================] - 0s 5ms/step - loss: 0.8368\n",
            "Epoch 235/300\n",
            "7/7 [==============================] - 0s 3ms/step - loss: 0.8370\n",
            "Epoch 236/300\n",
            "7/7 [==============================] - 0s 3ms/step - loss: 0.8384\n",
            "Epoch 237/300\n",
            "7/7 [==============================] - 0s 3ms/step - loss: 0.8362\n",
            "Epoch 238/300\n",
            "7/7 [==============================] - 0s 3ms/step - loss: 0.8372\n",
            "Epoch 239/300\n",
            "7/7 [==============================] - 0s 3ms/step - loss: 0.8374\n",
            "Epoch 240/300\n",
            "7/7 [==============================] - 0s 3ms/step - loss: 0.8377\n",
            "Epoch 241/300\n",
            "7/7 [==============================] - 0s 3ms/step - loss: 0.8366\n",
            "Epoch 242/300\n",
            "7/7 [==============================] - 0s 3ms/step - loss: 0.8381\n",
            "Epoch 243/300\n",
            "7/7 [==============================] - 0s 4ms/step - loss: 0.8365\n",
            "Epoch 244/300\n",
            "7/7 [==============================] - 0s 3ms/step - loss: 0.8374\n",
            "Epoch 245/300\n",
            "7/7 [==============================] - 0s 3ms/step - loss: 0.8382\n",
            "Epoch 246/300\n",
            "7/7 [==============================] - 0s 3ms/step - loss: 0.8375\n",
            "Epoch 247/300\n",
            "7/7 [==============================] - 0s 4ms/step - loss: 0.8367\n",
            "Epoch 248/300\n",
            "7/7 [==============================] - 0s 3ms/step - loss: 0.8369\n",
            "Epoch 249/300\n",
            "7/7 [==============================] - 0s 3ms/step - loss: 0.8375\n",
            "Epoch 250/300\n",
            "7/7 [==============================] - 0s 3ms/step - loss: 0.8367\n",
            "Epoch 251/300\n",
            "7/7 [==============================] - 0s 3ms/step - loss: 0.8365\n",
            "Epoch 252/300\n",
            "7/7 [==============================] - 0s 3ms/step - loss: 0.8373\n",
            "Epoch 253/300\n",
            "7/7 [==============================] - 0s 3ms/step - loss: 0.8365\n",
            "Epoch 254/300\n",
            "7/7 [==============================] - 0s 3ms/step - loss: 0.8362\n",
            "Epoch 255/300\n",
            "7/7 [==============================] - 0s 3ms/step - loss: 0.8369\n",
            "Epoch 256/300\n",
            "7/7 [==============================] - 0s 3ms/step - loss: 0.8371\n",
            "Epoch 257/300\n",
            "7/7 [==============================] - 0s 4ms/step - loss: 0.8373\n",
            "Epoch 258/300\n",
            "7/7 [==============================] - 0s 3ms/step - loss: 0.8378\n",
            "Epoch 259/300\n",
            "7/7 [==============================] - 0s 3ms/step - loss: 0.8380\n",
            "Epoch 260/300\n",
            "7/7 [==============================] - 0s 3ms/step - loss: 0.8367\n",
            "Epoch 261/300\n",
            "7/7 [==============================] - 0s 4ms/step - loss: 0.8377\n",
            "Epoch 262/300\n",
            "7/7 [==============================] - 0s 4ms/step - loss: 0.8369\n",
            "Epoch 263/300\n",
            "7/7 [==============================] - 0s 4ms/step - loss: 0.8381\n",
            "Epoch 264/300\n",
            "7/7 [==============================] - 0s 5ms/step - loss: 0.8381\n",
            "Epoch 265/300\n",
            "7/7 [==============================] - 0s 4ms/step - loss: 0.8396\n",
            "Epoch 266/300\n",
            "7/7 [==============================] - 0s 3ms/step - loss: 0.8378\n",
            "Epoch 267/300\n",
            "7/7 [==============================] - 0s 3ms/step - loss: 0.8373\n",
            "Epoch 268/300\n",
            "7/7 [==============================] - 0s 4ms/step - loss: 0.8373\n",
            "Epoch 269/300\n",
            "7/7 [==============================] - 0s 4ms/step - loss: 0.8366\n",
            "Epoch 270/300\n",
            "7/7 [==============================] - 0s 4ms/step - loss: 0.8366\n",
            "Epoch 271/300\n",
            "7/7 [==============================] - 0s 3ms/step - loss: 0.8362\n",
            "Epoch 272/300\n",
            "7/7 [==============================] - 0s 3ms/step - loss: 0.8369\n",
            "Epoch 273/300\n",
            "7/7 [==============================] - 0s 3ms/step - loss: 0.8375\n",
            "Epoch 274/300\n",
            "7/7 [==============================] - 0s 4ms/step - loss: 0.8369\n",
            "Epoch 275/300\n",
            "7/7 [==============================] - 0s 3ms/step - loss: 0.8363\n",
            "Epoch 276/300\n",
            "7/7 [==============================] - 0s 3ms/step - loss: 0.8365\n",
            "Epoch 277/300\n",
            "7/7 [==============================] - 0s 3ms/step - loss: 0.8369\n",
            "Epoch 278/300\n",
            "7/7 [==============================] - 0s 3ms/step - loss: 0.8366\n",
            "Epoch 279/300\n",
            "7/7 [==============================] - 0s 4ms/step - loss: 0.8367\n",
            "Epoch 280/300\n",
            "7/7 [==============================] - 0s 4ms/step - loss: 0.8368\n",
            "Epoch 281/300\n",
            "7/7 [==============================] - 0s 4ms/step - loss: 0.8376\n",
            "Epoch 282/300\n",
            "7/7 [==============================] - 0s 3ms/step - loss: 0.8375\n",
            "Epoch 283/300\n",
            "7/7 [==============================] - 0s 3ms/step - loss: 0.8374\n",
            "Epoch 284/300\n",
            "7/7 [==============================] - 0s 3ms/step - loss: 0.8377\n",
            "Epoch 285/300\n",
            "7/7 [==============================] - 0s 3ms/step - loss: 0.8372\n",
            "Epoch 286/300\n",
            "7/7 [==============================] - 0s 3ms/step - loss: 0.8374\n",
            "Epoch 287/300\n",
            "7/7 [==============================] - 0s 3ms/step - loss: 0.8371\n",
            "Epoch 288/300\n",
            "7/7 [==============================] - 0s 4ms/step - loss: 0.8368\n",
            "Epoch 289/300\n",
            "7/7 [==============================] - 0s 4ms/step - loss: 0.8372\n",
            "Epoch 290/300\n",
            "7/7 [==============================] - 0s 4ms/step - loss: 0.8374\n",
            "Epoch 291/300\n",
            "7/7 [==============================] - 0s 4ms/step - loss: 0.8377\n",
            "Epoch 292/300\n",
            "7/7 [==============================] - 0s 4ms/step - loss: 0.8377\n",
            "Epoch 293/300\n",
            "7/7 [==============================] - 0s 5ms/step - loss: 0.8363\n",
            "Epoch 294/300\n",
            "7/7 [==============================] - 0s 4ms/step - loss: 0.8386\n",
            "Epoch 295/300\n",
            "7/7 [==============================] - 0s 4ms/step - loss: 0.8366\n",
            "Epoch 296/300\n",
            "7/7 [==============================] - 0s 3ms/step - loss: 0.8378\n",
            "Epoch 297/300\n",
            "7/7 [==============================] - 0s 4ms/step - loss: 0.8367\n",
            "Epoch 298/300\n",
            "7/7 [==============================] - 0s 4ms/step - loss: 0.8363\n",
            "Epoch 299/300\n",
            "7/7 [==============================] - 0s 4ms/step - loss: 0.8365\n",
            "Epoch 300/300\n",
            "7/7 [==============================] - 0s 4ms/step - loss: 0.8364\n"
          ]
        }
      ]
    },
    {
      "cell_type": "code",
      "source": [
        "epochs = np.arange(1, 300+1)\n",
        "plt.plot(epochs, history.history[\"loss\"])\n",
        "plt.xlabel(\"epochs\")\n",
        "plt.ylabel(\"Loss\")\n",
        "plt.show()"
      ],
      "metadata": {
        "colab": {
          "base_uri": "https://localhost:8080/",
          "height": 279
        },
        "id": "TkT39oTQj3xC",
        "outputId": "b7f00d10-43c5-4750-a9c8-9ec0479a8db4"
      },
      "execution_count": 19,
      "outputs": [
        {
          "output_type": "display_data",
          "data": {
            "text/plain": [
              "<Figure size 432x288 with 1 Axes>"
            ],
            "image/png": "[encoded data removed]"
          },
          "metadata": {
            "needs_background": "light"
          }
        }
      ]
    },
    {
      "cell_type": "code",
      "source": [
        "x_arr = np.arange(-2,2, 0.1)\n",
        "y_arr = model.predict(x_arr)\n",
        "plt.plot(x, y, \"o\")\n",
        "plt.plot(x_arr, y_arr, \"-r\")\n",
        "plt.show()"
      ],
      "metadata": {
        "colab": {
          "base_uri": "https://localhost:8080/",
          "height": 265
        },
        "id": "PU_9o9W0kSpV",
        "outputId": "0d4ca1c9-fafd-47f1-804a-3ddbc5061464"
      },
      "execution_count": 22,
      "outputs": [
        {
          "output_type": "display_data",
          "data": {
            "text/plain": [
              "<Figure size 432x288 with 1 Axes>"
            ],
            "image/png": "[encoded data removed]"
          },
          "metadata": {
            "needs_background": "light"
          }
        }
      ]
    },
    {
      "cell_type": "code",
      "source": [
        ""
      ],
      "metadata": {
        "id": "irR0NTxSl20V"
      },
      "execution_count": null,
      "outputs": []
    }
  ]
}